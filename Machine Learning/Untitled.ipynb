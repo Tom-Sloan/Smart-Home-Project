{
 "cells": [
  {
   "cell_type": "code",
   "execution_count": 1,
   "metadata": {},
   "outputs": [],
   "source": [
    "import numpy as np\n",
    "import matplotlib.pyplot as plt\n",
    "import pandas as pd\n",
    "import os\n",
    "import json\n",
    "import sys"
   ]
  },
  {
   "cell_type": "code",
   "execution_count": 2,
   "metadata": {},
   "outputs": [
    {
     "name": "stdout",
     "output_type": "stream",
     "text": [
      "Dial_Left_to_Right\n",
      "Dial_Right_to_Left\n",
      "Down_to_up\n",
      "Left_to_right\n",
      "Point\n",
      "Right_to_Left\n",
      "Up-to-Down\n",
      "C:\\Users\\OWNER\\Documents\\Projects\\God\\Smart-Home-Project\\Machine Learning\\Dial_Left_to_Right\n",
      "C:\\Users\\OWNER\\Documents\\Projects\\God\\Smart-Home-Project\\Machine Learning\\Dial_Right_to_Left\n",
      "C:\\Users\\OWNER\\Documents\\Projects\\God\\Smart-Home-Project\\Machine Learning\\Down_to_up\n",
      "C:\\Users\\OWNER\\Documents\\Projects\\God\\Smart-Home-Project\\Machine Learning\\Left_to_right\n",
      "C:\\Users\\OWNER\\Documents\\Projects\\God\\Smart-Home-Project\\Machine Learning\\Point\n",
      "C:\\Users\\OWNER\\Documents\\Projects\\God\\Smart-Home-Project\\Machine Learning\\Right_to_Left\n",
      "C:\\Users\\OWNER\\Documents\\Projects\\God\\Smart-Home-Project\\Machine Learning\\Up-to-Down\n"
     ]
    }
   ],
   "source": [
    "path = os.getcwd()\n",
    "\n",
    "folders = []\n",
    "\n",
    "for r, d, f in os.walk(path):\n",
    "    for folder in d:\n",
    "        if folder == \".ipynb_checkpoints\":\n",
    "            continue\n",
    "        else:\n",
    "            print(folder)\n",
    "            folders.append(os.path.join(r, folder))\n",
    "\n",
    "for f in folders:\n",
    "    print(f)"
   ]
  },
  {
   "cell_type": "code",
   "execution_count": 3,
   "metadata": {},
   "outputs": [
    {
     "name": "stdout",
     "output_type": "stream",
     "text": [
      "0\n",
      "1\n",
      "2\n",
      "3\n",
      "4\n",
      "5\n",
      "6\n"
     ]
    }
   ],
   "source": [
    "ds_move = []\n",
    "ds_var = [];\n",
    "ds_std = [];\n",
    "ds_slp = [];\n",
    "ds_mean = []\n",
    "\n",
    "for x in range(len(folders)):\n",
    "   temp = os.listdir(folders[x])\n",
    "   os.chdir(folders[x])\n",
    "   print(x)\n",
    "   #print(\"Temp is changing folders to \", temp)\n",
    "   for c in range(len(os.listdir(folders[x]))):\n",
    "       #if not c.strip(): continue  # skip the empty line\n",
    "       #print(str(x) + 'aya');\n",
    "       dataset = pd.read_csv(temp[c], sep=\",\", header=None);\n",
    "       dataset.columns = [\"acc_x\", \"acc_y\", \"acc_z\", \"gyr_x\", \"gyr_y\", \"gyr_z\", \"mag_x\", \"mag_y\", \"mag_z\"];\n",
    "       dataset = dataset.drop([\"mag_x\", \"mag_y\", \"mag_z\"], axis = 1)\n",
    "       ds_move.append(x);\n",
    "       ds_mean.append((dataset.mean()).tolist());\n",
    "       ds_var.append(dataset.var().tolist());\n",
    "       ds_std.append(dataset.std().tolist());\n",
    "       ds_slp.append(dataset.apply(lambda x: np.polyfit(dataset.index, x, 1)[0]).tolist());\n"
   ]
  },
  {
   "cell_type": "code",
   "execution_count": 4,
   "metadata": {},
   "outputs": [
    {
     "data": {
      "text/plain": [
       "list"
      ]
     },
     "execution_count": 4,
     "metadata": {},
     "output_type": "execute_result"
    }
   ],
   "source": [
    "type(ds_mean)"
   ]
  },
  {
   "cell_type": "code",
   "execution_count": 6,
   "metadata": {},
   "outputs": [
    {
     "ename": "SyntaxError",
     "evalue": "unexpected EOF while parsing (<ipython-input-6-bfe8781968dd>, line 2)",
     "output_type": "error",
     "traceback": [
      "\u001b[1;36m  File \u001b[1;32m\"<ipython-input-6-bfe8781968dd>\"\u001b[1;36m, line \u001b[1;32m2\u001b[0m\n\u001b[1;33m    for movement in action:\u001b[0m\n\u001b[1;37m                           ^\u001b[0m\n\u001b[1;31mSyntaxError\u001b[0m\u001b[1;31m:\u001b[0m unexpected EOF while parsing\n"
     ]
    }
   ],
   "source": [
    "for index, data in enumerate(ds_mean):\n",
    "    \n",
    "        "
   ]
  },
  {
   "cell_type": "code",
   "execution_count": null,
   "metadata": {},
   "outputs": [],
   "source": []
  }
 ],
 "metadata": {
  "kernelspec": {
   "display_name": "Python 3",
   "language": "python",
   "name": "python3"
  },
  "language_info": {
   "codemirror_mode": {
    "name": "ipython",
    "version": 3
   },
   "file_extension": ".py",
   "mimetype": "text/x-python",
   "name": "python",
   "nbconvert_exporter": "python",
   "pygments_lexer": "ipython3",
   "version": "3.7.2"
  }
 },
 "nbformat": 4,
 "nbformat_minor": 2
}
